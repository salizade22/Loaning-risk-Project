{
 "cells": [
  {
   "cell_type": "markdown",
   "metadata": {},
   "source": [
    "## Analyzing borrowers’ risk of defaulting\n",
    "\n",
    "The project is to prepare a report for a bank’s loan division. We’ll need to find out if a customer’s marital status and number of children has an impact on whether they will default on a loan. The bank already has some data on customers’ credit worthiness.\n",
    "\n",
    "Our report will be considered when building a **credit scoring** of a potential customer. A ** credit scoring ** is used to evaluate the ability of a potential borrower to repay their loan."
   ]
  },
  {
   "cell_type": "markdown",
   "metadata": {},
   "source": [
    "### Step 1. Open the data file and have a look at the general information. "
   ]
  },
  {
   "cell_type": "code",
   "execution_count": 1,
   "metadata": {},
   "outputs": [
    {
     "name": "stdout",
     "output_type": "stream",
     "text": [
      "<class 'pandas.core.frame.DataFrame'>\n",
      "RangeIndex: 21525 entries, 0 to 21524\n",
      "Data columns (total 12 columns):\n",
      "children            21525 non-null int64\n",
      "days_employed       19351 non-null float64\n",
      "dob_years           21525 non-null int64\n",
      "education           21525 non-null object\n",
      "education_id        21525 non-null int64\n",
      "family_status       21525 non-null object\n",
      "family_status_id    21525 non-null int64\n",
      "gender              21525 non-null object\n",
      "income_type         21525 non-null object\n",
      "debt                21525 non-null int64\n",
      "total_income        19351 non-null float64\n",
      "purpose             21525 non-null object\n",
      "dtypes: float64(2), int64(5), object(5)\n",
      "memory usage: 2.0+ MB\n",
      "None\n",
      "   children  days_employed  dob_years            education  education_id  \\\n",
      "0         1   -8437.673028         42    bachelor's degree             0   \n",
      "1         1   -4024.803754         36  secondary education             1   \n",
      "2         0   -5623.422610         33  Secondary Education             1   \n",
      "3         3   -4124.747207         32  secondary education             1   \n",
      "4         0  340266.072047         53  secondary education             1   \n",
      "5         0    -926.185831         27    bachelor's degree             0   \n",
      "6         0   -2879.202052         43    bachelor's degree             0   \n",
      "7         0    -152.779569         50  SECONDARY EDUCATION             1   \n",
      "8         2   -6929.865299         35    BACHELOR'S DEGREE             0   \n",
      "9         0   -2188.756445         41  secondary education             1   \n",
      "\n",
      "       family_status  family_status_id gender income_type  debt  total_income  \\\n",
      "0            married                 0      F    employee     0     40620.102   \n",
      "1            married                 0      F    employee     0     17932.802   \n",
      "2            married                 0      M    employee     0     23341.752   \n",
      "3            married                 0      M    employee     0     42820.568   \n",
      "4  civil partnership                 1      F     retiree     0     25378.572   \n",
      "5  civil partnership                 1      M    business     0     40922.170   \n",
      "6            married                 0      F    business     0     38484.156   \n",
      "7            married                 0      M    employee     0     21731.829   \n",
      "8  civil partnership                 1      F    employee     0     15337.093   \n",
      "9            married                 0      M    employee     0     23108.150   \n",
      "\n",
      "                               purpose  \n",
      "0                purchase of the house  \n",
      "1                         car purchase  \n",
      "2                purchase of the house  \n",
      "3              supplementary education  \n",
      "4                    to have a wedding  \n",
      "5                purchase of the house  \n",
      "6                 housing transactions  \n",
      "7                            education  \n",
      "8                     having a wedding  \n",
      "9  purchase of the house for my family  \n",
      "       children  days_employed  dob_years            education  education_id  \\\n",
      "21515         1    -467.685130         28  secondary education             1   \n",
      "21516         0    -914.391429         42    bachelor's degree             0   \n",
      "21517         0    -404.679034         42    bachelor's degree             0   \n",
      "21518         0  373995.710838         59  SECONDARY EDUCATION             1   \n",
      "21519         1   -2351.431934         37      graduate degree             4   \n",
      "21520         1   -4529.316663         43  secondary education             1   \n",
      "21521         0  343937.404131         67  secondary education             1   \n",
      "21522         1   -2113.346888         38  secondary education             1   \n",
      "21523         3   -3112.481705         38  secondary education             1   \n",
      "21524         2   -1984.507589         40  secondary education             1   \n",
      "\n",
      "           family_status  family_status_id gender income_type  debt  \\\n",
      "21515            married                 0      F    employee     1   \n",
      "21516            married                 0      F    business     0   \n",
      "21517  civil partnership                 1      F    business     0   \n",
      "21518            married                 0      F     retiree     0   \n",
      "21519           divorced                 3      M    employee     0   \n",
      "21520  civil partnership                 1      F    business     0   \n",
      "21521            married                 0      F     retiree     0   \n",
      "21522  civil partnership                 1      M    employee     1   \n",
      "21523            married                 0      M    employee     1   \n",
      "21524            married                 0      F    employee     0   \n",
      "\n",
      "       total_income                     purpose  \n",
      "21515     17517.812          to become educated  \n",
      "21516     51649.244    purchase of my own house  \n",
      "21517     28489.529           buying my own car  \n",
      "21518     24618.344           purchase of a car  \n",
      "21519     18551.846  buy commercial real estate  \n",
      "21520     35966.698        housing transactions  \n",
      "21521     24959.969           purchase of a car  \n",
      "21522     14347.610                    property  \n",
      "21523     39054.888           buying my own car  \n",
      "21524     13127.587                to buy a car  \n"
     ]
    }
   ],
   "source": [
    "import pandas as pd\n",
    "data = pd.read_csv('/datasets/credit_scoring_eng.csv')\n",
    "print(data.info())\n",
    "print(data.head(10))\n",
    "print(data.tail(10))"
   ]
  },
  {
   "cell_type": "code",
   "execution_count": 2,
   "metadata": {},
   "outputs": [
    {
     "data": {
      "text/html": [
       "<style>.container { width:96% !important; }</style>"
      ],
      "text/plain": [
       "<IPython.core.display.HTML object>"
      ]
     },
     "execution_count": 2,
     "metadata": {},
     "output_type": "execute_result"
    }
   ],
   "source": [
    "# Use more of the page width\n",
    "from IPython.core.display import HTML\n",
    "HTML(\"<style>.container { width:96% !important; }</style>\")"
   ]
  },
  {
   "cell_type": "code",
   "execution_count": 3,
   "metadata": {},
   "outputs": [
    {
     "name": "stdout",
     "output_type": "stream",
     "text": [
      "children               0\n",
      "days_employed       2174\n",
      "dob_years              0\n",
      "education              0\n",
      "education_id           0\n",
      "family_status          0\n",
      "family_status_id       0\n",
      "gender                 0\n",
      "income_type            0\n",
      "debt                   0\n",
      "total_income        2174\n",
      "purpose                0\n",
      "dtype: int64\n"
     ]
    },
    {
     "data": {
      "text/plain": [
       "54"
      ]
     },
     "execution_count": 3,
     "metadata": {},
     "output_type": "execute_result"
    }
   ],
   "source": [
    "print(data.isnull().sum())\n",
    "data.duplicated().sum()"
   ]
  },
  {
   "cell_type": "code",
   "execution_count": 4,
   "metadata": {},
   "outputs": [],
   "source": [
    "##So we only have null values in days_employed and total_income columns. \n",
    "##LOOK AT THE VARIABLES"
   ]
  },
  {
   "cell_type": "code",
   "execution_count": 5,
   "metadata": {},
   "outputs": [
    {
     "data": {
      "text/plain": [
       "-1        47\n",
       " 0     14149\n",
       " 1      4818\n",
       " 2      2055\n",
       " 3       330\n",
       " 4        41\n",
       " 5         9\n",
       " 20       76\n",
       "Name: children, dtype: int64"
      ]
     },
     "execution_count": 5,
     "metadata": {},
     "output_type": "execute_result"
    }
   ],
   "source": [
    "#children\n",
    "df = data.sort_values('children')['children'].value_counts()\n",
    "df.sort_index()"
   ]
  },
  {
   "cell_type": "code",
   "execution_count": 6,
   "metadata": {},
   "outputs": [
    {
     "name": "stdout",
     "output_type": "stream",
     "text": [
      "15906\n"
     ]
    }
   ],
   "source": [
    "#days_employed, let's see how many negative values are there in our dataset\n",
    "print(data[data['days_employed']<0]['days_employed'].count())"
   ]
  },
  {
   "cell_type": "code",
   "execution_count": 7,
   "metadata": {},
   "outputs": [
    {
     "name": "stdout",
     "output_type": "stream",
     "text": [
      "0     101\n",
      "19     14\n",
      "20     51\n",
      "21    111\n",
      "22    183\n",
      "23    254\n",
      "24    264\n",
      "25    357\n",
      "26    408\n",
      "27    493\n",
      "28    503\n",
      "29    545\n",
      "30    540\n",
      "31    560\n",
      "32    510\n",
      "33    581\n",
      "34    603\n",
      "35    617\n",
      "36    555\n",
      "37    537\n",
      "38    598\n",
      "39    573\n",
      "40    609\n",
      "41    607\n",
      "42    597\n",
      "43    513\n",
      "44    547\n",
      "45    497\n",
      "46    475\n",
      "47    480\n",
      "48    538\n",
      "49    508\n",
      "50    514\n",
      "51    448\n",
      "52    484\n",
      "53    459\n",
      "54    479\n",
      "55    443\n",
      "56    487\n",
      "57    460\n",
      "58    461\n",
      "59    444\n",
      "60    377\n",
      "61    355\n",
      "62    352\n",
      "63    269\n",
      "64    265\n",
      "65    194\n",
      "66    183\n",
      "67    167\n",
      "68     99\n",
      "69     85\n",
      "70     65\n",
      "71     58\n",
      "72     33\n",
      "73      8\n",
      "74      6\n",
      "75      1\n",
      "Name: dob_years, dtype: int64\n"
     ]
    }
   ],
   "source": [
    "#dob_years, let's check the how many customers of each age do we have\n",
    "print(data.sort_values('dob_years')['dob_years'].value_counts().sort_index())\n",
    "#Notice that we have customers of age 0!"
   ]
  },
  {
   "cell_type": "code",
   "execution_count": 8,
   "metadata": {},
   "outputs": [
    {
     "data": {
      "text/plain": [
       "secondary education    13750\n",
       "bachelor's degree       4718\n",
       "SECONDARY EDUCATION      772\n",
       "Secondary Education      711\n",
       "some college             668\n",
       "BACHELOR'S DEGREE        274\n",
       "Bachelor's Degree        268\n",
       "primary education        250\n",
       "Some College              47\n",
       "SOME COLLEGE              29\n",
       "PRIMARY EDUCATION         17\n",
       "Primary Education         15\n",
       "graduate degree            4\n",
       "Graduate Degree            1\n",
       "GRADUATE DEGREE            1\n",
       "Name: education, dtype: int64"
      ]
     },
     "execution_count": 8,
     "metadata": {},
     "output_type": "execute_result"
    }
   ],
   "source": [
    "#education, let's see what type of education do the customers have\n",
    "data.sort_values('education')['education'].value_counts()\n",
    "#Notice the duplicates!"
   ]
  },
  {
   "cell_type": "code",
   "execution_count": 9,
   "metadata": {},
   "outputs": [
    {
     "name": "stdout",
     "output_type": "stream",
     "text": [
      "civil partnership     4177\n",
      "divorced              1195\n",
      "married              12380\n",
      "unmarried             2813\n",
      "widow / widower        960\n",
      "Name: family_status, dtype: int64\n"
     ]
    }
   ],
   "source": [
    "#family_status\n",
    "f = data.sort_values('family_status')['family_status']\n",
    "print(f.value_counts().sort_index())"
   ]
  },
  {
   "cell_type": "code",
   "execution_count": 10,
   "metadata": {},
   "outputs": [
    {
     "data": {
      "text/plain": [
       "F      14236\n",
       "M       7288\n",
       "XNA        1\n",
       "Name: gender, dtype: int64"
      ]
     },
     "execution_count": 10,
     "metadata": {},
     "output_type": "execute_result"
    }
   ],
   "source": [
    "#gender\n",
    "data.sort_values('gender')['gender'].value_counts().sort_index()\n",
    "#Notice that we have undefined gender!"
   ]
  },
  {
   "cell_type": "code",
   "execution_count": 11,
   "metadata": {},
   "outputs": [
    {
     "data": {
      "text/plain": [
       "employee                       11119\n",
       "business                        5085\n",
       "retiree                         3856\n",
       "civil servant                   1459\n",
       "entrepreneur                       2\n",
       "unemployed                         2\n",
       "paternity / maternity leave        1\n",
       "student                            1\n",
       "Name: income_type, dtype: int64"
      ]
     },
     "execution_count": 11,
     "metadata": {},
     "output_type": "execute_result"
    }
   ],
   "source": [
    "#income_type\n",
    "data['income_type'].value_counts()"
   ]
  },
  {
   "cell_type": "code",
   "execution_count": 12,
   "metadata": {},
   "outputs": [
    {
     "data": {
      "text/plain": [
       "wedding ceremony                            797\n",
       "having a wedding                            777\n",
       "to have a wedding                           774\n",
       "real estate transactions                    676\n",
       "buy commercial real estate                  664\n",
       "buying property for renting out             653\n",
       "housing transactions                        653\n",
       "transactions with commercial real estate    651\n",
       "purchase of the house                       647\n",
       "housing                                     647\n",
       "purchase of the house for my family         641\n",
       "construction of own property                635\n",
       "property                                    634\n",
       "transactions with my real estate            630\n",
       "building a real estate                      626\n",
       "buy real estate                             624\n",
       "purchase of my own house                    620\n",
       "building a property                         620\n",
       "housing renovation                          612\n",
       "buy residential real estate                 607\n",
       "buying my own car                           505\n",
       "going to university                         496\n",
       "car                                         495\n",
       "second-hand car purchase                    489\n",
       "to own a car                                480\n",
       "buying a second-hand car                    479\n",
       "cars                                        478\n",
       "to buy a car                                472\n",
       "supplementary education                     462\n",
       "car purchase                                462\n",
       "purchase of a car                           455\n",
       "university education                        453\n",
       "to get a supplementary education            447\n",
       "education                                   447\n",
       "getting an education                        443\n",
       "profile education                           436\n",
       "getting higher education                    426\n",
       "to become educated                          412\n",
       "Name: purpose, dtype: int64"
      ]
     },
     "execution_count": 12,
     "metadata": {},
     "output_type": "execute_result"
    }
   ],
   "source": [
    "data['purpose'].value_counts()"
   ]
  },
  {
   "cell_type": "markdown",
   "metadata": {},
   "source": [
    "### Conclusion\n"
   ]
  },
  {
   "cell_type": "markdown",
   "metadata": {},
   "source": [
    "We run data.info() to see the overview of our dataset. We see that most of the columns have 21525 data points, except for total_income and days_employed, which have 2174 missing data points. Then we proceed and look at first and last 10 rows to see the values in our dataset. We can immediately see that days_employed has a lot of negative values; however, since a person at worst case hasn't worked at all, the minimum value in the column could possibly be only zero. So we could assume, for example, that our colleagues who filled the data, maybe wanted to use hyphen to distinguish the data, but it was passed as a minus sign. Or, maybe the customers somehow reported misleading data. If we were to use it as an explanatory variable later on, we could \"fix\" the dataset, by multiplying the negative values by -1. We see that we also have 2174 missing entries in total_income column. Since we need to use total_income in our analysis, the 2174 data points will be ignored, as we can't restore them.\n",
    "\n",
    "Summary for each individual variable:\n",
    "- we have 47 negative values reported in the number of children column. Since this amount is not significant we could either ignore the data, or multiply it by -1 and add to a category of people with one child\n",
    "- Days employed has negative values, and so we will multiply them by -1, to use in analysis\n",
    "- Dob years, has missing values. We can't assume what people's ages were so due to a small amount we could ignore the data.\n",
    "- We see several duplicates in education category, so we should genralize the categories.\n",
    "- We could also note, for the sake of clarity, that family_status_id == 0 refers to married people, family_status_id == 1 refers to people in civic relationships, family_status_id==2 refers to widdowed people, family_status_id==3 refers to divorced people, and family_status_id==4 refers to unmarried people. \n",
    "- Purpose column has a lot of duplicates, with different wordings. Again, we will get rid of the duplciates and generalize categories"
   ]
  },
  {
   "cell_type": "markdown",
   "metadata": {},
   "source": [
    "### Step 2. Data preprocessing"
   ]
  },
  {
   "cell_type": "markdown",
   "metadata": {},
   "source": [
    "### Processing missing values"
   ]
  },
  {
   "cell_type": "code",
   "execution_count": 13,
   "metadata": {},
   "outputs": [
    {
     "name": "stdout",
     "output_type": "stream",
     "text": [
      "F      14236\n",
      "M       7288\n",
      "XNA        1\n",
      "Name: gender, dtype: int64\n",
      "       children  days_employed  dob_years     education  education_id  \\\n",
      "10701         0   -2358.600502         24  some college             2   \n",
      "\n",
      "           family_status  family_status_id gender income_type  debt  \\\n",
      "10701  civil partnership                 1    XNA    business     0   \n",
      "\n",
      "       total_income          purpose  \n",
      "10701     32624.825  buy real estate  \n",
      "F    14237\n",
      "M     7288\n",
      "Name: gender, dtype: int64\n"
     ]
    },
    {
     "name": "stderr",
     "output_type": "stream",
     "text": [
      "/opt/conda/lib/python3.7/site-packages/ipykernel_launcher.py:3: FutureWarning: set_value is deprecated and will be removed in a future release. Please use .at[] or .iat[] accessors instead\n",
      "  This is separate from the ipykernel package so we can avoid doing imports until\n"
     ]
    }
   ],
   "source": [
    "print(data['gender'].value_counts())\n",
    "print(data.loc[data['gender']=='XNA'])\n",
    "data.set_value(10701, 'gender', 'F')\n",
    "print(data['gender'].value_counts())"
   ]
  },
  {
   "cell_type": "code",
   "execution_count": 14,
   "metadata": {},
   "outputs": [
    {
     "name": "stdout",
     "output_type": "stream",
     "text": [
      "0     14149\n",
      "1      4818\n",
      "2      2055\n",
      "3       330\n",
      "20       76\n",
      "4        41\n",
      "5         9\n",
      "Name: children, dtype: int64\n"
     ]
    }
   ],
   "source": [
    "data = data[data['children']>-1]\n",
    "print(data['children'].value_counts())"
   ]
  },
  {
   "cell_type": "code",
   "execution_count": 15,
   "metadata": {},
   "outputs": [],
   "source": [
    "mn = data['total_income'].mean()\n",
    "data.loc[data['total_income'].isnull(), 'total_income'] = mn"
   ]
  },
  {
   "cell_type": "code",
   "execution_count": 16,
   "metadata": {},
   "outputs": [],
   "source": [
    "dm = data['days_employed'].mean()\n",
    "data.loc[data['days_employed'].isnull(), 'days_employed'] = dm"
   ]
  },
  {
   "cell_type": "code",
   "execution_count": 17,
   "metadata": {},
   "outputs": [
    {
     "name": "stdout",
     "output_type": "stream",
     "text": [
      "<class 'pandas.core.frame.DataFrame'>\n",
      "Int64Index: 21478 entries, 0 to 21524\n",
      "Data columns (total 12 columns):\n",
      "children            21478 non-null int64\n",
      "days_employed       21478 non-null float64\n",
      "dob_years           21478 non-null int64\n",
      "education           21478 non-null object\n",
      "education_id        21478 non-null int64\n",
      "family_status       21478 non-null object\n",
      "family_status_id    21478 non-null int64\n",
      "gender              21478 non-null object\n",
      "income_type         21478 non-null object\n",
      "debt                21478 non-null int64\n",
      "total_income        21478 non-null float64\n",
      "purpose             21478 non-null object\n",
      "dtypes: float64(2), int64(5), object(5)\n",
      "memory usage: 2.1+ MB\n"
     ]
    }
   ],
   "source": [
    "data.info()"
   ]
  },
  {
   "cell_type": "markdown",
   "metadata": {},
   "source": [
    "### Conclusion"
   ]
  },
  {
   "cell_type": "markdown",
   "metadata": {},
   "source": [
    "We see that we have a person with third unassigned gender XNA, and then we look at the persons data. We see that we have no missing variable there, so for the sake of clarity we could assign this person a female (F) gender, because gender is not the primary focus of our analysis.\n",
    "We also see that we have some rows where the number of children is reported to be negative, which is not possible, so we delete those rows. "
   ]
  },
  {
   "cell_type": "markdown",
   "metadata": {},
   "source": [
    "### Data type replacement"
   ]
  },
  {
   "cell_type": "code",
   "execution_count": 18,
   "metadata": {},
   "outputs": [
    {
     "data": {
      "text/plain": [
       "0"
      ]
     },
     "execution_count": 18,
     "metadata": {},
     "output_type": "execute_result"
    }
   ],
   "source": [
    "data['days_employed'] = abs(data['days_employed'])    \n",
    "data['days_employed'] = data['days_employed'].astype(int)\n",
    "len(data[data['days_employed']<0])"
   ]
  },
  {
   "cell_type": "markdown",
   "metadata": {},
   "source": [
    "### Conclusion"
   ]
  },
  {
   "cell_type": "markdown",
   "metadata": {},
   "source": [
    "The primary goal was to replace the negative values in days_employed column, to improve our analysis. As we see at the end there no negative values left in the column, as we took their absolute value. Also we replaced the data type from float to int."
   ]
  },
  {
   "cell_type": "markdown",
   "metadata": {},
   "source": [
    "### Processing duplicates"
   ]
  },
  {
   "cell_type": "code",
   "execution_count": 19,
   "metadata": {},
   "outputs": [
    {
     "name": "stdout",
     "output_type": "stream",
     "text": [
      "secondary education    15196\n",
      "bachelor's degree       5251\n",
      "some college             743\n",
      "primary education        282\n",
      "graduate degree            6\n",
      "Name: education, dtype: int64\n"
     ]
    }
   ],
   "source": [
    "#We have duplicates in education column\n",
    "data['education'] = data['education'].str.lower()\n",
    "print(data['education'].value_counts())"
   ]
  },
  {
   "cell_type": "markdown",
   "metadata": {},
   "source": [
    "### Conclusion"
   ]
  },
  {
   "cell_type": "markdown",
   "metadata": {},
   "source": [
    "Due to the difference in the letter sizes we had several education categories. We decreased them substantially, and now have separate categories."
   ]
  },
  {
   "cell_type": "markdown",
   "metadata": {},
   "source": [
    "### Lemmatization"
   ]
  },
  {
   "cell_type": "code",
   "execution_count": 34,
   "metadata": {},
   "outputs": [
    {
     "data": {
      "text/plain": [
       "real estate    7655\n",
       "car            4304\n",
       "education      3516\n",
       "house          3161\n",
       "wedding        2346\n",
       "Name: purpose_type, dtype: int64"
      ]
     },
     "execution_count": 34,
     "metadata": {},
     "output_type": "execute_result"
    }
   ],
   "source": [
    "from collections import Counter\n",
    "import nltk\n",
    "from nltk.stem import WordNetLemmatizer\n",
    "lem = WordNetLemmatizer()\n",
    "#Originally, I wanted to lemmatize purposes, take out the most coomon ones and categorize according to them.I did not succeed, so the code  her ewas utilized from that posted by others in Slack channel, so \n",
    "w_words = ['wedding']\n",
    "r_words = ['real estate', 'transaction', 'transactions', 'property']\n",
    "h_words = ['house', 'housing']\n",
    "c_words = ['car', 'cars']\n",
    "s_words = ['education', 'educated']\n",
    "def purpose_grouping(purpose):       \n",
    "    for w in w_words:\n",
    "        if w in purpose:\n",
    "                return 'wedding'\n",
    "    for r in r_words:\n",
    "        if r in purpose:\n",
    "            return 'real estate'\n",
    "    for h in h_words:\n",
    "        if h in purpose:\n",
    "            return 'house'\n",
    "    for c in c_words:\n",
    "        if c in purpose:\n",
    "            return 'car'\n",
    "    for s in s_words:\n",
    "        if s in purpose:\n",
    "            return 'education'\n",
    "data['purpose_type'] = data['purpose'].apply(purpose_grouping)\n",
    "\n",
    "data['purpose_type'].value_counts()"
   ]
  },
  {
   "cell_type": "markdown",
   "metadata": {},
   "source": [
    "### Conclusion"
   ]
  },
  {
   "cell_type": "markdown",
   "metadata": {},
   "source": [
    "We boiled down the purposes to 5 main categories, which makes analysis much more simpler. "
   ]
  },
  {
   "cell_type": "markdown",
   "metadata": {},
   "source": [
    "### Categorizing Data"
   ]
  },
  {
   "cell_type": "code",
   "execution_count": 36,
   "metadata": {},
   "outputs": [
    {
     "data": {
      "text/plain": [
       "childless       14149\n",
       "small family     6873\n",
       "big family        456\n",
       "Name: child_type, dtype: int64"
      ]
     },
     "execution_count": 36,
     "metadata": {},
     "output_type": "execute_result"
    }
   ],
   "source": [
    "def child_categories(n):\n",
    "    if n==0:\n",
    "        return 'childless'\n",
    "    elif n<3:\n",
    "        return 'small family'\n",
    "    else:\n",
    "        return 'big family'\n",
    "\n",
    "data['child_type'] = data['children'].apply(child_categories)\n",
    "#Let's see what categorie we got\n",
    "data['child_type'].value_counts()"
   ]
  },
  {
   "cell_type": "code",
   "execution_count": 37,
   "metadata": {},
   "outputs": [
    {
     "data": {
      "text/plain": [
       "married      12351\n",
       "unmarried     9127\n",
       "Name: family_status_type, dtype: int64"
      ]
     },
     "execution_count": 37,
     "metadata": {},
     "output_type": "execute_result"
    }
   ],
   "source": [
    "def family_categories(string):\n",
    "    if string == 'married':\n",
    "        return 'married'\n",
    "    else:\n",
    "        return 'unmarried'\n",
    "    \n",
    "data['family_status_type'] = data['family_status'].apply(family_categories)\n",
    "#Let's see how the distribution looks like\n",
    "data['family_status_type'].value_counts()"
   ]
  },
  {
   "cell_type": "code",
   "execution_count": 45,
   "metadata": {},
   "outputs": [
    {
     "data": {
      "text/html": [
       "<div>\n",
       "<style scoped>\n",
       "    .dataframe tbody tr th:only-of-type {\n",
       "        vertical-align: middle;\n",
       "    }\n",
       "\n",
       "    .dataframe tbody tr th {\n",
       "        vertical-align: top;\n",
       "    }\n",
       "\n",
       "    .dataframe thead th {\n",
       "        text-align: right;\n",
       "    }\n",
       "</style>\n",
       "<table border=\"1\" class=\"dataframe\">\n",
       "  <thead>\n",
       "    <tr style=\"text-align: right;\">\n",
       "      <th></th>\n",
       "      <th>children</th>\n",
       "      <th>days_employed</th>\n",
       "      <th>dob_years</th>\n",
       "      <th>education</th>\n",
       "      <th>education_id</th>\n",
       "      <th>family_status</th>\n",
       "      <th>family_status_id</th>\n",
       "      <th>gender</th>\n",
       "      <th>income_type</th>\n",
       "      <th>debt</th>\n",
       "      <th>total_income</th>\n",
       "      <th>purpose</th>\n",
       "      <th>purpose_type</th>\n",
       "      <th>child_type</th>\n",
       "      <th>family_status_type</th>\n",
       "      <th>total_income_type</th>\n",
       "    </tr>\n",
       "  </thead>\n",
       "  <tbody>\n",
       "    <tr>\n",
       "      <td>0</td>\n",
       "      <td>1</td>\n",
       "      <td>8437</td>\n",
       "      <td>42</td>\n",
       "      <td>bachelor's degree</td>\n",
       "      <td>0</td>\n",
       "      <td>married</td>\n",
       "      <td>0</td>\n",
       "      <td>F</td>\n",
       "      <td>employee</td>\n",
       "      <td>0</td>\n",
       "      <td>40620.102</td>\n",
       "      <td>purchase of the house</td>\n",
       "      <td>house</td>\n",
       "      <td>small family</td>\n",
       "      <td>married</td>\n",
       "      <td>high income</td>\n",
       "    </tr>\n",
       "    <tr>\n",
       "      <td>1</td>\n",
       "      <td>1</td>\n",
       "      <td>4024</td>\n",
       "      <td>36</td>\n",
       "      <td>secondary education</td>\n",
       "      <td>1</td>\n",
       "      <td>married</td>\n",
       "      <td>0</td>\n",
       "      <td>F</td>\n",
       "      <td>employee</td>\n",
       "      <td>0</td>\n",
       "      <td>17932.802</td>\n",
       "      <td>car purchase</td>\n",
       "      <td>car</td>\n",
       "      <td>small family</td>\n",
       "      <td>married</td>\n",
       "      <td>average income</td>\n",
       "    </tr>\n",
       "    <tr>\n",
       "      <td>2</td>\n",
       "      <td>0</td>\n",
       "      <td>5623</td>\n",
       "      <td>33</td>\n",
       "      <td>secondary education</td>\n",
       "      <td>1</td>\n",
       "      <td>married</td>\n",
       "      <td>0</td>\n",
       "      <td>M</td>\n",
       "      <td>employee</td>\n",
       "      <td>0</td>\n",
       "      <td>23341.752</td>\n",
       "      <td>purchase of the house</td>\n",
       "      <td>house</td>\n",
       "      <td>childless</td>\n",
       "      <td>married</td>\n",
       "      <td>average income</td>\n",
       "    </tr>\n",
       "    <tr>\n",
       "      <td>3</td>\n",
       "      <td>3</td>\n",
       "      <td>4124</td>\n",
       "      <td>32</td>\n",
       "      <td>secondary education</td>\n",
       "      <td>1</td>\n",
       "      <td>married</td>\n",
       "      <td>0</td>\n",
       "      <td>M</td>\n",
       "      <td>employee</td>\n",
       "      <td>0</td>\n",
       "      <td>42820.568</td>\n",
       "      <td>supplementary education</td>\n",
       "      <td>education</td>\n",
       "      <td>big family</td>\n",
       "      <td>married</td>\n",
       "      <td>high income</td>\n",
       "    </tr>\n",
       "    <tr>\n",
       "      <td>4</td>\n",
       "      <td>0</td>\n",
       "      <td>340266</td>\n",
       "      <td>53</td>\n",
       "      <td>secondary education</td>\n",
       "      <td>1</td>\n",
       "      <td>civil partnership</td>\n",
       "      <td>1</td>\n",
       "      <td>F</td>\n",
       "      <td>retiree</td>\n",
       "      <td>0</td>\n",
       "      <td>25378.572</td>\n",
       "      <td>to have a wedding</td>\n",
       "      <td>wedding</td>\n",
       "      <td>childless</td>\n",
       "      <td>unmarried</td>\n",
       "      <td>average income</td>\n",
       "    </tr>\n",
       "  </tbody>\n",
       "</table>\n",
       "</div>"
      ],
      "text/plain": [
       "   children  days_employed  dob_years            education  education_id  \\\n",
       "0         1           8437         42    bachelor's degree             0   \n",
       "1         1           4024         36  secondary education             1   \n",
       "2         0           5623         33  secondary education             1   \n",
       "3         3           4124         32  secondary education             1   \n",
       "4         0         340266         53  secondary education             1   \n",
       "\n",
       "       family_status  family_status_id gender income_type  debt  total_income  \\\n",
       "0            married                 0      F    employee     0     40620.102   \n",
       "1            married                 0      F    employee     0     17932.802   \n",
       "2            married                 0      M    employee     0     23341.752   \n",
       "3            married                 0      M    employee     0     42820.568   \n",
       "4  civil partnership                 1      F     retiree     0     25378.572   \n",
       "\n",
       "                   purpose purpose_type    child_type family_status_type  \\\n",
       "0    purchase of the house        house  small family            married   \n",
       "1             car purchase          car  small family            married   \n",
       "2    purchase of the house        house     childless            married   \n",
       "3  supplementary education    education    big family            married   \n",
       "4        to have a wedding      wedding     childless          unmarried   \n",
       "\n",
       "  total_income_type  \n",
       "0       high income  \n",
       "1    average income  \n",
       "2    average income  \n",
       "3       high income  \n",
       "4    average income  "
      ]
     },
     "execution_count": 45,
     "metadata": {},
     "output_type": "execute_result"
    }
   ],
   "source": [
    "from scipy.stats import iqr\n",
    "import numpy as np\n",
    "#the lowest 25% of the distribution is smaller than p25\n",
    "p25 = np.percentile(data['total_income'],25)\n",
    "#the highest 25% of the distribution is above p75\n",
    "p75 = np.percentile(data['total_income'],75)\n",
    "def income_categories(n):\n",
    "    if n<=p25:\n",
    "        return 'low income'\n",
    "    elif n<=p75:\n",
    "        return 'average income'\n",
    "    else:\n",
    "        return 'high income'\n",
    "    \n",
    "data['total_income_type'] = data['total_income'].apply(income_categories) \n",
    "data.head()"
   ]
  },
  {
   "cell_type": "markdown",
   "metadata": {},
   "source": [
    "### Conclusion"
   ]
  },
  {
   "cell_type": "markdown",
   "metadata": {},
   "source": [
    "We categorized the data to see :\n",
    "-Is there a relationship between the number of children, marital status, total income and loan repayment rate"
   ]
  },
  {
   "cell_type": "markdown",
   "metadata": {},
   "source": [
    "### Step 3. Answer these questions"
   ]
  },
  {
   "cell_type": "markdown",
   "metadata": {},
   "source": [
    "- Is there a relation between having kids and repaying a loan on time?"
   ]
  },
  {
   "cell_type": "code",
   "execution_count": 46,
   "metadata": {},
   "outputs": [
    {
     "data": {
      "text/html": [
       "<div>\n",
       "<style scoped>\n",
       "    .dataframe tbody tr th:only-of-type {\n",
       "        vertical-align: middle;\n",
       "    }\n",
       "\n",
       "    .dataframe tbody tr th {\n",
       "        vertical-align: top;\n",
       "    }\n",
       "\n",
       "    .dataframe thead th {\n",
       "        text-align: right;\n",
       "    }\n",
       "</style>\n",
       "<table border=\"1\" class=\"dataframe\">\n",
       "  <thead>\n",
       "    <tr style=\"text-align: right;\">\n",
       "      <th></th>\n",
       "      <th>debt</th>\n",
       "    </tr>\n",
       "    <tr>\n",
       "      <th>child_type</th>\n",
       "      <th></th>\n",
       "    </tr>\n",
       "  </thead>\n",
       "  <tbody>\n",
       "    <tr>\n",
       "      <td>big family</td>\n",
       "      <td>0.085526</td>\n",
       "    </tr>\n",
       "    <tr>\n",
       "      <td>childless</td>\n",
       "      <td>0.075129</td>\n",
       "    </tr>\n",
       "    <tr>\n",
       "      <td>small family</td>\n",
       "      <td>0.092827</td>\n",
       "    </tr>\n",
       "  </tbody>\n",
       "</table>\n",
       "</div>"
      ],
      "text/plain": [
       "                  debt\n",
       "child_type            \n",
       "big family    0.085526\n",
       "childless     0.075129\n",
       "small family  0.092827"
      ]
     },
     "execution_count": 46,
     "metadata": {},
     "output_type": "execute_result"
    }
   ],
   "source": [
    "pd.pivot_table(data, index='child_type', values='debt')"
   ]
  },
  {
   "cell_type": "markdown",
   "metadata": {},
   "source": [
    "### Conclusion"
   ]
  },
  {
   "cell_type": "markdown",
   "metadata": {},
   "source": [
    "There is no direct relationship between the number of children and the loan repayment rate. Families with no children, and big families with many children have a difference of 1% on their debt which is not significant. In addition, families which have less than 3 children tend to have higher debts, than others. Therefore, we cannot state that increase/decrease in the number of children hav a direct effect"
   ]
  },
  {
   "cell_type": "markdown",
   "metadata": {},
   "source": [
    "- Is there a relation between marital status and repaying a loan on time?"
   ]
  },
  {
   "cell_type": "code",
   "execution_count": 47,
   "metadata": {},
   "outputs": [
    {
     "data": {
      "text/html": [
       "<div>\n",
       "<style scoped>\n",
       "    .dataframe tbody tr th:only-of-type {\n",
       "        vertical-align: middle;\n",
       "    }\n",
       "\n",
       "    .dataframe tbody tr th {\n",
       "        vertical-align: top;\n",
       "    }\n",
       "\n",
       "    .dataframe thead th {\n",
       "        text-align: right;\n",
       "    }\n",
       "</style>\n",
       "<table border=\"1\" class=\"dataframe\">\n",
       "  <thead>\n",
       "    <tr style=\"text-align: right;\">\n",
       "      <th></th>\n",
       "      <th>debt</th>\n",
       "    </tr>\n",
       "    <tr>\n",
       "      <th>family_status_type</th>\n",
       "      <th></th>\n",
       "    </tr>\n",
       "  </thead>\n",
       "  <tbody>\n",
       "    <tr>\n",
       "      <td>married</td>\n",
       "      <td>0.075298</td>\n",
       "    </tr>\n",
       "    <tr>\n",
       "      <td>unmarried</td>\n",
       "      <td>0.088748</td>\n",
       "    </tr>\n",
       "  </tbody>\n",
       "</table>\n",
       "</div>"
      ],
      "text/plain": [
       "                        debt\n",
       "family_status_type          \n",
       "married             0.075298\n",
       "unmarried           0.088748"
      ]
     },
     "execution_count": 47,
     "metadata": {},
     "output_type": "execute_result"
    }
   ],
   "source": [
    "pd.pivot_table(data, index='family_status_type', values='debt')"
   ]
  },
  {
   "cell_type": "markdown",
   "metadata": {},
   "source": [
    "### Conclusion"
   ]
  },
  {
   "cell_type": "markdown",
   "metadata": {},
   "source": [
    "Unmarried people tend to have higher debt rate, i.e lower loan repayment rate"
   ]
  },
  {
   "cell_type": "markdown",
   "metadata": {},
   "source": [
    "- Is there a relation between income level and repaying a loan on time?"
   ]
  },
  {
   "cell_type": "code",
   "execution_count": 48,
   "metadata": {},
   "outputs": [
    {
     "data": {
      "text/html": [
       "<div>\n",
       "<style scoped>\n",
       "    .dataframe tbody tr th:only-of-type {\n",
       "        vertical-align: middle;\n",
       "    }\n",
       "\n",
       "    .dataframe tbody tr th {\n",
       "        vertical-align: top;\n",
       "    }\n",
       "\n",
       "    .dataframe thead th {\n",
       "        text-align: right;\n",
       "    }\n",
       "</style>\n",
       "<table border=\"1\" class=\"dataframe\">\n",
       "  <thead>\n",
       "    <tr style=\"text-align: right;\">\n",
       "      <th></th>\n",
       "      <th>debt</th>\n",
       "    </tr>\n",
       "    <tr>\n",
       "      <th>total_income_type</th>\n",
       "      <th></th>\n",
       "    </tr>\n",
       "  </thead>\n",
       "  <tbody>\n",
       "    <tr>\n",
       "      <td>average income</td>\n",
       "      <td>0.086422</td>\n",
       "    </tr>\n",
       "    <tr>\n",
       "      <td>high income</td>\n",
       "      <td>0.071695</td>\n",
       "    </tr>\n",
       "    <tr>\n",
       "      <td>low income</td>\n",
       "      <td>0.079516</td>\n",
       "    </tr>\n",
       "  </tbody>\n",
       "</table>\n",
       "</div>"
      ],
      "text/plain": [
       "                       debt\n",
       "total_income_type          \n",
       "average income     0.086422\n",
       "high income        0.071695\n",
       "low income         0.079516"
      ]
     },
     "execution_count": 48,
     "metadata": {},
     "output_type": "execute_result"
    }
   ],
   "source": [
    "pd.pivot_table(data, index='total_income_type', values='debt')"
   ]
  },
  {
   "cell_type": "markdown",
   "metadata": {},
   "source": [
    "### Conclusion"
   ]
  },
  {
   "cell_type": "markdown",
   "metadata": {},
   "source": [
    "People with low and high incomes tend to be more accurate with their repayments (i.e repay on time), whereas, people with average income tend to have higher debt rates"
   ]
  },
  {
   "cell_type": "markdown",
   "metadata": {},
   "source": [
    "- How do different loan purposes affect on-time repayment of the loan?"
   ]
  },
  {
   "cell_type": "code",
   "execution_count": 49,
   "metadata": {},
   "outputs": [
    {
     "data": {
      "text/html": [
       "<div>\n",
       "<style scoped>\n",
       "    .dataframe tbody tr th:only-of-type {\n",
       "        vertical-align: middle;\n",
       "    }\n",
       "\n",
       "    .dataframe tbody tr th {\n",
       "        vertical-align: top;\n",
       "    }\n",
       "\n",
       "    .dataframe thead th {\n",
       "        text-align: right;\n",
       "    }\n",
       "</style>\n",
       "<table border=\"1\" class=\"dataframe\">\n",
       "  <thead>\n",
       "    <tr style=\"text-align: right;\">\n",
       "      <th></th>\n",
       "      <th>debt</th>\n",
       "    </tr>\n",
       "    <tr>\n",
       "      <th>purpose_type</th>\n",
       "      <th></th>\n",
       "    </tr>\n",
       "  </thead>\n",
       "  <tbody>\n",
       "    <tr>\n",
       "      <td>car</td>\n",
       "      <td>0.093401</td>\n",
       "    </tr>\n",
       "    <tr>\n",
       "      <td>education</td>\n",
       "      <td>0.093003</td>\n",
       "    </tr>\n",
       "    <tr>\n",
       "      <td>house</td>\n",
       "      <td>0.065802</td>\n",
       "    </tr>\n",
       "    <tr>\n",
       "      <td>real estate</td>\n",
       "      <td>0.074984</td>\n",
       "    </tr>\n",
       "    <tr>\n",
       "      <td>wedding</td>\n",
       "      <td>0.079284</td>\n",
       "    </tr>\n",
       "  </tbody>\n",
       "</table>\n",
       "</div>"
      ],
      "text/plain": [
       "                  debt\n",
       "purpose_type          \n",
       "car           0.093401\n",
       "education     0.093003\n",
       "house         0.065802\n",
       "real estate   0.074984\n",
       "wedding       0.079284"
      ]
     },
     "execution_count": 49,
     "metadata": {},
     "output_type": "execute_result"
    }
   ],
   "source": [
    "pd.pivot_table(data, index='purpose_type', values='debt')"
   ]
  },
  {
   "cell_type": "markdown",
   "metadata": {},
   "source": [
    "### Conclusion"
   ]
  },
  {
   "cell_type": "markdown",
   "metadata": {},
   "source": [
    "People mainly default on car and education purposes. Housing has the lowest debt rate. Real estate and wedding are in the middle, and have 7.49% and 7.92% debt rates respectively."
   ]
  },
  {
   "cell_type": "markdown",
   "metadata": {},
   "source": [
    "### Step 4. General conclusion"
   ]
  },
  {
   "cell_type": "markdown",
   "metadata": {},
   "source": [
    "The bank will have a lower risk if it gives a loan to people with no children or a lot of children, who are married, who have low or high income, and are intending to buy a house, or possibly real estate or are willing to have a wedding."
   ]
  },
  {
   "cell_type": "code",
   "execution_count": null,
   "metadata": {},
   "outputs": [],
   "source": []
  }
 ],
 "metadata": {
  "kernelspec": {
   "display_name": "Python 3",
   "language": "python",
   "name": "python3"
  },
  "language_info": {
   "codemirror_mode": {
    "name": "ipython",
    "version": 3
   },
   "file_extension": ".py",
   "mimetype": "text/x-python",
   "name": "python",
   "nbconvert_exporter": "python",
   "pygments_lexer": "ipython3",
   "version": "3.7.6"
  }
 },
 "nbformat": 4,
 "nbformat_minor": 2
}
